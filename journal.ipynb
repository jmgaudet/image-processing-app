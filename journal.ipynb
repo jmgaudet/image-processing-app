{
 "cells": [
  {
   "cell_type": "code",
   "execution_count": 1,
   "metadata": {
    "collapsed": true
   },
   "outputs": [],
   "source": [
    "import tensorflow as tf\n",
    "import cv2 as cv\n",
    "import matplotlib as plt\n",
    "import numpy as np\n",
    "import tensorflow as tf\n",
    "from skimage import data, io, filters"
   ]
  },
  {
   "cell_type": "code",
   "execution_count": 2,
   "metadata": {
    "collapsed": false,
    "pycharm": {
     "name": "#%%\n"
    }
   },
   "outputs": [
    {
     "name": "stdout",
     "output_type": "stream",
     "text": [
      "tensorflow: 2.4.0-rc0\n",
      "matplotlib: 3.4.1\n",
      "numpy: 1.18.5\n",
      "opencv: 4.5.1\n"
     ]
    }
   ],
   "source": [
    "print(f'tensorflow: {tf.__version__}')\n",
    "print(f'matplotlib: {plt.__version__}')\n",
    "print(f'numpy: {np.__version__}')\n",
    "print(f'opencv: {cv.__version__}')"
   ]
  },
  {
   "cell_type": "code",
   "execution_count": null,
   "metadata": {
    "collapsed": false,
    "pycharm": {
     "name": "#%%\n"
    }
   },
   "outputs": [],
   "source": []
  }
 ],
 "metadata": {
  "kernelspec": {
   "display_name": "Python 3.8.6 64-bit ('tf24': conda)",
   "name": "python386jvsc74a57bd00127df5ff4b2e40ac025c0565be56ba516f34c35b9898f44b93e706d8e48218d"
  },
  "language_info": {
   "codemirror_mode": {
    "name": "ipython",
    "version": 3
   },
   "file_extension": ".py",
   "mimetype": "text/x-python",
   "name": "python",
   "nbconvert_exporter": "python",
   "pygments_lexer": "ipython3",
   "version": "3.8.6"
  },
  "metadata": {
   "interpreter": {
    "hash": "0127df5ff4b2e40ac025c0565be56ba516f34c35b9898f44b93e706d8e48218d"
   }
  }
 },
 "nbformat": 4,
 "nbformat_minor": 0
}